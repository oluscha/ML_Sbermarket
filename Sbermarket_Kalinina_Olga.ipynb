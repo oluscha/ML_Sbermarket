{
 "cells": [
  {
   "cell_type": "code",
   "execution_count": 1,
   "id": "344d1a7d",
   "metadata": {},
   "outputs": [],
   "source": [
    "import pandas as pd\n",
    "import numpy as np"
   ]
  },
  {
   "cell_type": "code",
   "execution_count": 2,
   "id": "64b47781",
   "metadata": {},
   "outputs": [],
   "source": [
    "#считываю данные\n",
    "train = pd.read_csv('/Users/olgakalinina/Downloads/train-2.csv')"
   ]
  },
  {
   "cell_type": "code",
   "execution_count": 3,
   "id": "1b7c434a",
   "metadata": {},
   "outputs": [],
   "source": [
    "#создаю резервные данные\n",
    "train2=train"
   ]
  },
  {
   "cell_type": "code",
   "execution_count": 4,
   "id": "dd28aecd",
   "metadata": {},
   "outputs": [],
   "source": [
    "#считаю кол-во заказов для каждого пользователя\n",
    "number_of_orders=train2[['user_id', 'order_completed_at']] \\\n",
    "    .sort_values(['user_id', 'order_completed_at'], ascending=[True, False]) \\\n",
    "    .drop_duplicates() \\\n",
    "    .groupby('user_id', as_index=False).agg({'order_completed_at':'count'}) \\\n",
    "    .rename(columns={'order_completed_at': 'number_of_orders'})"
   ]
  },
  {
   "cell_type": "code",
   "execution_count": 5,
   "id": "2adc49b0",
   "metadata": {
    "scrolled": true
   },
   "outputs": [
    {
     "data": {
      "text/html": [
       "<div>\n",
       "<style scoped>\n",
       "    .dataframe tbody tr th:only-of-type {\n",
       "        vertical-align: middle;\n",
       "    }\n",
       "\n",
       "    .dataframe tbody tr th {\n",
       "        vertical-align: top;\n",
       "    }\n",
       "\n",
       "    .dataframe thead th {\n",
       "        text-align: right;\n",
       "    }\n",
       "</style>\n",
       "<table border=\"1\" class=\"dataframe\">\n",
       "  <thead>\n",
       "    <tr style=\"text-align: right;\">\n",
       "      <th></th>\n",
       "      <th>user_id</th>\n",
       "      <th>number_of_orders</th>\n",
       "    </tr>\n",
       "  </thead>\n",
       "  <tbody>\n",
       "    <tr>\n",
       "      <th>count</th>\n",
       "      <td>20000.000000</td>\n",
       "      <td>20000.000000</td>\n",
       "    </tr>\n",
       "    <tr>\n",
       "      <th>mean</th>\n",
       "      <td>9999.500000</td>\n",
       "      <td>10.470300</td>\n",
       "    </tr>\n",
       "    <tr>\n",
       "      <th>std</th>\n",
       "      <td>5773.647028</td>\n",
       "      <td>11.905856</td>\n",
       "    </tr>\n",
       "    <tr>\n",
       "      <th>min</th>\n",
       "      <td>0.000000</td>\n",
       "      <td>3.000000</td>\n",
       "    </tr>\n",
       "    <tr>\n",
       "      <th>25%</th>\n",
       "      <td>4999.750000</td>\n",
       "      <td>4.000000</td>\n",
       "    </tr>\n",
       "    <tr>\n",
       "      <th>50%</th>\n",
       "      <td>9999.500000</td>\n",
       "      <td>6.000000</td>\n",
       "    </tr>\n",
       "    <tr>\n",
       "      <th>75%</th>\n",
       "      <td>14999.250000</td>\n",
       "      <td>12.000000</td>\n",
       "    </tr>\n",
       "    <tr>\n",
       "      <th>max</th>\n",
       "      <td>19999.000000</td>\n",
       "      <td>213.000000</td>\n",
       "    </tr>\n",
       "  </tbody>\n",
       "</table>\n",
       "</div>"
      ],
      "text/plain": [
       "            user_id  number_of_orders\n",
       "count  20000.000000      20000.000000\n",
       "mean    9999.500000         10.470300\n",
       "std     5773.647028         11.905856\n",
       "min        0.000000          3.000000\n",
       "25%     4999.750000          4.000000\n",
       "50%     9999.500000          6.000000\n",
       "75%    14999.250000         12.000000\n",
       "max    19999.000000        213.000000"
      ]
     },
     "execution_count": 5,
     "metadata": {},
     "output_type": "execute_result"
    }
   ],
   "source": [
    "#таблица с кол-вом заказа для каждого юзера\n",
    "number_of_orders.describe()"
   ]
  },
  {
   "cell_type": "code",
   "execution_count": 6,
   "id": "b729a832",
   "metadata": {},
   "outputs": [],
   "source": [
    "#соединяю общую таблицу с таблицей по кол-ву заказов\n",
    "train2=train2.merge(number_of_orders, on='user_id')"
   ]
  },
  {
   "cell_type": "code",
   "execution_count": 7,
   "id": "b4db928e",
   "metadata": {},
   "outputs": [],
   "source": [
    "#Идея следующая: у нас есть БД с заказами: вычленим из нее 2 БД\n",
    "#Первая: последние несколько заказов. Если в ней есть user_id_cart, то значит на тренировочных данных target = 1\n",
    "#Почему беру несколько последних заказов, а не один? \n",
    "#Потому что клиент может каждый раз заказывать один и тот же хлеб, но стиральный порошок он будет заказывать, \n",
    "#например, раз в неделю\n",
    "#Чтобы предложить ему этот порошок, необходимо анализировать не последнюю покупку, а несколько\n",
    "#Вторая: все заказы пользователя (да, последние три заказа дублируются с первой БД, но \n",
    "#так как наша задача вычленить наиболее частые покупки и медиана общего кол-ва заказов = 6(не сильно больше 3),\n",
    "# \"общая усредненная\" картина не меняется)"
   ]
  },
  {
   "cell_type": "code",
   "execution_count": 8,
   "id": "ac877048",
   "metadata": {},
   "outputs": [],
   "source": [
    "#нахожу последние три заказа каждого юзера\n",
    "last_three_orders = train2[['user_id', 'order_completed_at']]\n",
    "last_three_orders=last_three_orders.drop_duplicates()\n",
    "last_three_orders=last_three_orders \\\n",
    "    .sort_values(['user_id', 'order_completed_at'], ascending=[True, False]) \\\n",
    "    .groupby('user_id').head(3)"
   ]
  },
  {
   "cell_type": "code",
   "execution_count": 9,
   "id": "d74fcab7",
   "metadata": {},
   "outputs": [],
   "source": [
    "#нахожу user_id_cart для каждого юзера для его последних 3 покупок\n",
    "last_three_orders_with_cart=train2[train2.user_id.isin(last_three_orders.user_id)]\n",
    "last_three_orders_with_cart=last_three_orders_with_cart[last_three_orders_with_cart.order_completed_at.isin(last_three_orders.order_completed_at)]\n",
    "last_three_orders_with_cart['user_id_cart']=last_three_orders_with_cart['user_id'].astype(str)+';'+last_three_orders_with_cart['cart'].astype(str)"
   ]
  },
  {
   "cell_type": "code",
   "execution_count": 10,
   "id": "bf6f1165",
   "metadata": {},
   "outputs": [],
   "source": [
    "#присваиваю всем категориям таргет = 1\n",
    "last_three_orders_with_cart_bougth=last_three_orders_with_cart['user_id_cart']\n",
    "last_three_orders_with_cart_bougth=pd.DataFrame(data=last_three_orders_with_cart_bougth)\n",
    "last_three_orders_with_cart_bougth['target']=1\n",
    "last_three_orders_with_cart_bougth=last_three_orders_with_cart_bougth.drop_duplicates()"
   ]
  },
  {
   "cell_type": "code",
   "execution_count": 11,
   "id": "f9558cf5",
   "metadata": {},
   "outputs": [],
   "source": [
    "#что вообще покупал юзер, нахожу частоту покупок определенной категории\n",
    "first_orders = train2\n",
    "first_orders['user_id_cart'] = first_orders['user_id'].astype(str)+';'+first_orders['cart'].astype(str)\n",
    "first_orders_number_of_purchases = first_orders.groupby('user_id_cart', as_index=False).agg({'cart':'count'}) \\\n",
    "    .rename(columns={'cart':'number_of_purchases'})\n",
    "first_orders=first_orders.merge(first_orders_number_of_purchases, on = 'user_id_cart')\n",
    "first_orders['share_of_total_purchases']=(first_orders.number_of_purchases/first_orders.number_of_orders).round(3)"
   ]
  },
  {
   "cell_type": "code",
   "execution_count": 12,
   "id": "42610455",
   "metadata": {},
   "outputs": [],
   "source": [
    "#создаю основной датасет с общими покупками пользователя, с частотой покупки каждой категории, \n",
    "#с тем была ли эта категория куплена в последние 3 покупки\n",
    "final_data=first_orders.merge(last_three_orders_with_cart_bougth, on='user_id_cart', how = 'left')\n",
    "final_data=final_data[['user_id', 'cart', 'user_id_cart', 'share_of_total_purchases', 'target']].drop_duplicates()"
   ]
  },
  {
   "cell_type": "code",
   "execution_count": 13,
   "id": "921314a8",
   "metadata": {},
   "outputs": [
    {
     "data": {
      "text/plain": [
       "user_id                          0\n",
       "cart                             0\n",
       "user_id_cart                     0\n",
       "share_of_total_purchases         0\n",
       "target                      498936\n",
       "dtype: int64"
      ]
     },
     "execution_count": 13,
     "metadata": {},
     "output_type": "execute_result"
    }
   ],
   "source": [
    "#смотрю пропуски в target, означает, что в последних трех покупках наш юзер не покупал эту категорию\n",
    "final_data.isnull().sum()"
   ]
  },
  {
   "cell_type": "code",
   "execution_count": 14,
   "id": "b0ea5ed7",
   "metadata": {},
   "outputs": [],
   "source": [
    "#заполняю таргет 0\n",
    "final_data=final_data.fillna(0)"
   ]
  },
  {
   "cell_type": "code",
   "execution_count": 15,
   "id": "16f35ce7",
   "metadata": {},
   "outputs": [
    {
     "data": {
      "text/html": [
       "<div>\n",
       "<style scoped>\n",
       "    .dataframe tbody tr th:only-of-type {\n",
       "        vertical-align: middle;\n",
       "    }\n",
       "\n",
       "    .dataframe tbody tr th {\n",
       "        vertical-align: top;\n",
       "    }\n",
       "\n",
       "    .dataframe thead th {\n",
       "        text-align: right;\n",
       "    }\n",
       "</style>\n",
       "<table border=\"1\" class=\"dataframe\">\n",
       "  <thead>\n",
       "    <tr style=\"text-align: right;\">\n",
       "      <th></th>\n",
       "      <th>user_id</th>\n",
       "      <th>cart</th>\n",
       "      <th>user_id_cart</th>\n",
       "      <th>share_of_total_purchases</th>\n",
       "      <th>target</th>\n",
       "    </tr>\n",
       "  </thead>\n",
       "  <tbody>\n",
       "    <tr>\n",
       "      <th>0</th>\n",
       "      <td>2</td>\n",
       "      <td>399</td>\n",
       "      <td>2;399</td>\n",
       "      <td>0.067</td>\n",
       "      <td>0.0</td>\n",
       "    </tr>\n",
       "    <tr>\n",
       "      <th>1</th>\n",
       "      <td>2</td>\n",
       "      <td>14</td>\n",
       "      <td>2;14</td>\n",
       "      <td>0.067</td>\n",
       "      <td>0.0</td>\n",
       "    </tr>\n",
       "    <tr>\n",
       "      <th>2</th>\n",
       "      <td>2</td>\n",
       "      <td>198</td>\n",
       "      <td>2;198</td>\n",
       "      <td>0.133</td>\n",
       "      <td>0.0</td>\n",
       "    </tr>\n",
       "    <tr>\n",
       "      <th>4</th>\n",
       "      <td>2</td>\n",
       "      <td>88</td>\n",
       "      <td>2;88</td>\n",
       "      <td>0.133</td>\n",
       "      <td>0.0</td>\n",
       "    </tr>\n",
       "    <tr>\n",
       "      <th>6</th>\n",
       "      <td>2</td>\n",
       "      <td>157</td>\n",
       "      <td>2;157</td>\n",
       "      <td>0.133</td>\n",
       "      <td>0.0</td>\n",
       "    </tr>\n",
       "    <tr>\n",
       "      <th>...</th>\n",
       "      <td>...</td>\n",
       "      <td>...</td>\n",
       "      <td>...</td>\n",
       "      <td>...</td>\n",
       "      <td>...</td>\n",
       "    </tr>\n",
       "    <tr>\n",
       "      <th>3123057</th>\n",
       "      <td>16887</td>\n",
       "      <td>329</td>\n",
       "      <td>16887;329</td>\n",
       "      <td>0.667</td>\n",
       "      <td>1.0</td>\n",
       "    </tr>\n",
       "    <tr>\n",
       "      <th>3123059</th>\n",
       "      <td>16887</td>\n",
       "      <td>0</td>\n",
       "      <td>16887;0</td>\n",
       "      <td>0.333</td>\n",
       "      <td>1.0</td>\n",
       "    </tr>\n",
       "    <tr>\n",
       "      <th>3123060</th>\n",
       "      <td>16887</td>\n",
       "      <td>333</td>\n",
       "      <td>16887;333</td>\n",
       "      <td>0.667</td>\n",
       "      <td>1.0</td>\n",
       "    </tr>\n",
       "    <tr>\n",
       "      <th>3123062</th>\n",
       "      <td>16887</td>\n",
       "      <td>325</td>\n",
       "      <td>16887;325</td>\n",
       "      <td>0.333</td>\n",
       "      <td>1.0</td>\n",
       "    </tr>\n",
       "    <tr>\n",
       "      <th>3123063</th>\n",
       "      <td>16887</td>\n",
       "      <td>330</td>\n",
       "      <td>16887;330</td>\n",
       "      <td>0.333</td>\n",
       "      <td>1.0</td>\n",
       "    </tr>\n",
       "  </tbody>\n",
       "</table>\n",
       "<p>1117600 rows × 5 columns</p>\n",
       "</div>"
      ],
      "text/plain": [
       "         user_id  cart user_id_cart  share_of_total_purchases  target\n",
       "0              2   399        2;399                     0.067     0.0\n",
       "1              2    14         2;14                     0.067     0.0\n",
       "2              2   198        2;198                     0.133     0.0\n",
       "4              2    88         2;88                     0.133     0.0\n",
       "6              2   157        2;157                     0.133     0.0\n",
       "...          ...   ...          ...                       ...     ...\n",
       "3123057    16887   329    16887;329                     0.667     1.0\n",
       "3123059    16887     0      16887;0                     0.333     1.0\n",
       "3123060    16887   333    16887;333                     0.667     1.0\n",
       "3123062    16887   325    16887;325                     0.333     1.0\n",
       "3123063    16887   330    16887;330                     0.333     1.0\n",
       "\n",
       "[1117600 rows x 5 columns]"
      ]
     },
     "execution_count": 15,
     "metadata": {},
     "output_type": "execute_result"
    }
   ],
   "source": [
    "final_data"
   ]
  },
  {
   "cell_type": "code",
   "execution_count": 16,
   "id": "89934f42",
   "metadata": {},
   "outputs": [],
   "source": [
    "#перевожу значение таргета в int\n",
    "final_data.target=final_data.target.astype(int)"
   ]
  },
  {
   "cell_type": "code",
   "execution_count": 17,
   "id": "a642671d",
   "metadata": {},
   "outputs": [],
   "source": [
    "#готовлю данные для случайного леса\n",
    "X = final_data[['user_id', 'cart', 'share_of_total_purchases']]\n",
    "X=X.round(3).to_numpy()\n",
    "y = final_data[['target']]\n",
    "y=np.ravel(y)"
   ]
  },
  {
   "cell_type": "code",
   "execution_count": 18,
   "id": "d3e67b96",
   "metadata": {},
   "outputs": [],
   "source": [
    "from sklearn.model_selection import train_test_split\n",
    "from sklearn.tree import DecisionTreeClassifier\n",
    "from sklearn.model_selection import train_test_split\n",
    "from sklearn import tree\n",
    "from sklearn.ensemble import RandomForestClassifier\n",
    "from sklearn.model_selection import GridSearchCV\n",
    "from sklearn.model_selection import RandomizedSearchCV"
   ]
  },
  {
   "cell_type": "code",
   "execution_count": 19,
   "id": "cf9c83d0",
   "metadata": {},
   "outputs": [],
   "source": [
    "#подбираю параметры для случайного леса\n",
    "#clf_rf=RandomForestClassifier()\n",
    "#parameters={'n_estimators':[65, 75, 85],\n",
    "    #'max_depth':[3, 4, 7, 8, 9, 10], 'min_samples_split':[800, 1000, 3000, 5000],\n",
    "           #'min_samples_leaf':[325, 350, 400, 1000, 3000]}\n",
    "#grid_search = RandomizedSearchCV(clf_rf, parameters, cv=5)\n",
    "#grid_search.fit(X, y) на подбор параметров ушло примерно 20 минут\n",
    "#grid_search.best_params_\n",
    "#{'n_estimators': 65,\n",
    "# 'min_samples_split': 1000,\n",
    "# 'min_samples_leaf': 3000,\n",
    "# 'max_depth': 8}"
   ]
  },
  {
   "cell_type": "code",
   "execution_count": 20,
   "id": "1ffaf7c5",
   "metadata": {},
   "outputs": [],
   "source": [
    "#чтобы уменьшить переобучаемость дерева, уменьшу max_depth до 3\n",
    "clf_rf=RandomForestClassifier(n_estimators= 75,\n",
    " min_samples_split = 1000,\n",
    " min_samples_leaf= 3000,\n",
    " max_depth= 3)"
   ]
  },
  {
   "cell_type": "code",
   "execution_count": 21,
   "id": "e91902a1",
   "metadata": {},
   "outputs": [
    {
     "data": {
      "text/plain": [
       "RandomForestClassifier(max_depth=3, min_samples_leaf=3000,\n",
       "                       min_samples_split=1000, n_estimators=75)"
      ]
     },
     "execution_count": 21,
     "metadata": {},
     "output_type": "execute_result"
    }
   ],
   "source": [
    "clf_rf.fit(X, y)"
   ]
  },
  {
   "cell_type": "code",
   "execution_count": 22,
   "id": "26cc9f56",
   "metadata": {},
   "outputs": [],
   "source": [
    "#загружаю тестовую выборку\n",
    "sub= pd.read_csv('/Users/olgakalinina/Downloads/sample_submission.csv')"
   ]
  },
  {
   "cell_type": "code",
   "execution_count": 23,
   "id": "566c62a4",
   "metadata": {},
   "outputs": [],
   "source": [
    "sub=sub.rename(columns={'id':'user_id_cart'})"
   ]
  },
  {
   "cell_type": "code",
   "execution_count": 24,
   "id": "7877168b",
   "metadata": {},
   "outputs": [],
   "source": [
    "#чтобы найти частоту покупки категории юзером присоединяю final_data\n",
    "sub=sub.merge(final_data, on ='user_id_cart', how='left')"
   ]
  },
  {
   "cell_type": "code",
   "execution_count": 25,
   "id": "383a3a7e",
   "metadata": {},
   "outputs": [],
   "source": [
    "#выделяю тестовую выборку\n",
    "X_test=sub[['user_id', 'cart', 'share_of_total_purchases']]\n",
    "y_test=sub[['target_x']].to_numpy()"
   ]
  },
  {
   "cell_type": "code",
   "execution_count": 26,
   "id": "0ee13560",
   "metadata": {},
   "outputs": [],
   "source": [
    "from sklearn.metrics import f1_score"
   ]
  },
  {
   "cell_type": "code",
   "execution_count": 27,
   "id": "8987cd86",
   "metadata": {},
   "outputs": [],
   "source": [
    "#предсказываю\n",
    "y_pred=clf_rf.predict_proba(X_test)"
   ]
  },
  {
   "cell_type": "code",
   "execution_count": 28,
   "id": "3acee8d8",
   "metadata": {},
   "outputs": [
    {
     "data": {
      "text/plain": [
       "<AxesSubplot:>"
      ]
     },
     "execution_count": 28,
     "metadata": {},
     "output_type": "execute_result"
    },
    {
     "data": {
      "image/png": "[encoded data removed]",
      "text/plain": [
       "<Figure size 432x288 with 1 Axes>"
      ]
     },
     "metadata": {
      "needs_background": "light"
     },
     "output_type": "display_data"
    }
   ],
   "source": [
    "#смотрю на распределение вероятностей\n",
    "pd.Series(y_pred[:,1]).hist()"
   ]
  },
  {
   "cell_type": "code",
   "execution_count": 29,
   "id": "c794f2e3",
   "metadata": {},
   "outputs": [],
   "source": [
    "#если вероятность больше 0,7 то покупатель купит эту категорию товаров\n",
    "y_pred = np.where(y_pred[:, 1]>0.7, 1, 0)"
   ]
  },
  {
   "cell_type": "code",
   "execution_count": 30,
   "id": "dba0cc0f",
   "metadata": {},
   "outputs": [
    {
     "data": {
      "text/plain": [
       "0.5001967236342889"
      ]
     },
     "execution_count": 30,
     "metadata": {},
     "output_type": "execute_result"
    }
   ],
   "source": [
    "#находим f1 score\n",
    "f1_score(y_test, y_pred, average='micro')"
   ]
  },
  {
   "cell_type": "code",
   "execution_count": 31,
   "id": "627d525d",
   "metadata": {},
   "outputs": [],
   "source": [
    "sub2=pd.read_csv('/Users/olgakalinina/Downloads/sample_submission.csv')"
   ]
  },
  {
   "cell_type": "code",
   "execution_count": 32,
   "id": "5c9bf254",
   "metadata": {},
   "outputs": [],
   "source": [
    "submissions=pd.DataFrame()"
   ]
  },
  {
   "cell_type": "code",
   "execution_count": 33,
   "id": "7a83d5dd",
   "metadata": {},
   "outputs": [],
   "source": [
    "submissions['id']=sub2['id']"
   ]
  },
  {
   "cell_type": "code",
   "execution_count": 34,
   "id": "b10d0ab5",
   "metadata": {},
   "outputs": [],
   "source": [
    "submissions['target']=y_pred"
   ]
  },
  {
   "cell_type": "code",
   "execution_count": 35,
   "id": "372ba596",
   "metadata": {},
   "outputs": [],
   "source": [
    "submissions.to_csv('submissions.csv', index=False)"
   ]
  }
 ],
 "metadata": {
  "kernelspec": {
   "display_name": "Python 3 (ipykernel)",
   "language": "python",
   "name": "python3"
  },
  "language_info": {
   "codemirror_mode": {
    "name": "ipython",
    "version": 3
   },
   "file_extension": ".py",
   "mimetype": "text/x-python",
   "name": "python",
   "nbconvert_exporter": "python",
   "pygments_lexer": "ipython3",
   "version": "3.9.7"
  }
 },
 "nbformat": 4,
 "nbformat_minor": 5
}
